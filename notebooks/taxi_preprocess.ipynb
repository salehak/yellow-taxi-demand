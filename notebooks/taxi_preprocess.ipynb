{
 "cells": [
  {
   "cell_type": "markdown",
   "metadata": {},
   "source": [
    "# Preprocessing Yellow taxi Data (.parquet)"
   ]
  },
  {
   "cell_type": "markdown",
   "metadata": {},
   "source": [
    "A significant amount of this code was adapted from the MAST30034 - Applied Data Science tutorial notebook.\n",
    "\n",
    "In addition to that, chatGPT was used in debugging the code for any errors that came up as suggested by the tutors for the course."
   ]
  },
  {
   "cell_type": "code",
   "execution_count": 1,
   "metadata": {},
   "outputs": [],
   "source": [
    "# Import packages required (aside the ones for the spark session and spark data frame)\n",
    "import math\n",
    "import matplotlib.pyplot as plt\n",
    "import pandas as pd"
   ]
  },
  {
   "cell_type": "markdown",
   "metadata": {},
   "source": [
    "## Start Spark Session to parse parquet files"
   ]
  },
  {
   "cell_type": "code",
   "execution_count": 2,
   "metadata": {},
   "outputs": [
    {
     "name": "stderr",
     "output_type": "stream",
     "text": [
      "Setting default log level to \"WARN\".\n",
      "To adjust logging level use sc.setLogLevel(newLevel). For SparkR, use setLogLevel(newLevel).\n",
      "24/08/25 16:21:54 WARN NativeCodeLoader: Unable to load native-hadoop library for your platform... using builtin-java classes where applicable\n"
     ]
    }
   ],
   "source": [
    "# The following code for the spark session has been adapted from the Applied Data Science (MAST30034) Tutorial 1\n",
    "from pyspark.sql import SparkSession\n",
    "from pyspark.sql.functions import col, unix_timestamp\n",
    "from pyspark.sql import functions as F\n",
    "import os\n",
    "\n",
    "# Create a spark session (which will run spark jobs)\n",
    "spark = (\n",
    "    SparkSession.builder.appName(\"MAST30034 Project 1\")\n",
    "    .config(\"spark.sql.repl.eagerEval.enabled\", True) \n",
    "    .config(\"spark.sql.parquet.cacheMetadata\", \"true\")\n",
    "    .config(\"spark.sql.session.timeZone\", \"Etc/UTC\")\n",
    "    .config('spark.driver.memory', '4g')\n",
    "    .config('spark.executor.memory', '2g')\n",
    "    .getOrCreate()\n",
    ")"
   ]
  },
  {
   "cell_type": "markdown",
   "metadata": {},
   "source": [
    "## Read in the yellow taxi parquet files"
   ]
  },
  {
   "cell_type": "code",
   "execution_count": 3,
   "metadata": {},
   "outputs": [
    {
     "name": "stderr",
     "output_type": "stream",
     "text": [
      "                                                                                \r"
     ]
    },
    {
     "name": "stdout",
     "output_type": "stream",
     "text": [
      "root\n",
      " |-- VendorID: integer (nullable = true)\n",
      " |-- tpep_pickup_datetime: timestamp_ntz (nullable = true)\n",
      " |-- tpep_dropoff_datetime: timestamp_ntz (nullable = true)\n",
      " |-- passenger_count: long (nullable = true)\n",
      " |-- trip_distance: double (nullable = true)\n",
      " |-- RatecodeID: long (nullable = true)\n",
      " |-- store_and_fwd_flag: string (nullable = true)\n",
      " |-- PULocationID: integer (nullable = true)\n",
      " |-- DOLocationID: integer (nullable = true)\n",
      " |-- payment_type: long (nullable = true)\n",
      " |-- fare_amount: double (nullable = true)\n",
      " |-- extra: double (nullable = true)\n",
      " |-- mta_tax: double (nullable = true)\n",
      " |-- tip_amount: double (nullable = true)\n",
      " |-- tolls_amount: double (nullable = true)\n",
      " |-- improvement_surcharge: double (nullable = true)\n",
      " |-- total_amount: double (nullable = true)\n",
      " |-- congestion_surcharge: double (nullable = true)\n",
      " |-- Airport_fee: double (nullable = true)\n",
      "\n"
     ]
    },
    {
     "data": {
      "text/plain": [
       "StructType([StructField('vendorid', IntegerType(), True), StructField('tpep_pickup_datetime', TimestampNTZType(), True), StructField('tpep_dropoff_datetime', TimestampNTZType(), True), StructField('passenger_count', LongType(), True), StructField('trip_distance', DoubleType(), True), StructField('ratecodeid', LongType(), True), StructField('store_and_fwd_flag', StringType(), True), StructField('pulocationid', IntegerType(), True), StructField('dolocationid', IntegerType(), True), StructField('payment_type', LongType(), True), StructField('fare_amount', DoubleType(), True), StructField('extra', DoubleType(), True), StructField('mta_tax', DoubleType(), True), StructField('tip_amount', DoubleType(), True), StructField('tolls_amount', DoubleType(), True), StructField('improvement_surcharge', DoubleType(), True), StructField('total_amount', DoubleType(), True), StructField('congestion_surcharge', DoubleType(), True), StructField('airport_fee', DoubleType(), True)])"
      ]
     },
     "execution_count": 3,
     "metadata": {},
     "output_type": "execute_result"
    }
   ],
   "source": [
    "# Read in the yellow taxi month that has the correct schema\n",
    "sdf_feb = spark.read.parquet('../data/landing/yellow_2023-02.parquet')\n",
    "sdf_feb.printSchema()\n",
    "# ensure everything has consistent casing to make our lives easier\n",
    "consistent_col_casing = [F.col(col_name).alias(col_name.lower()) for col_name in sdf_feb.columns]\n",
    "sdf_feb = sdf_feb.select(*consistent_col_casing)\n",
    "\n",
    "# this will be used in the cell below when reading in all the other files\n",
    "sdf_schema = sdf_feb.schema\n",
    "sdf_schema"
   ]
  },
  {
   "cell_type": "code",
   "execution_count": 4,
   "metadata": {},
   "outputs": [],
   "source": [
    "# Define the directory path for all the parquet files that are read and the schema is changed\n",
    "# For consistency purposes\n",
    "output_dir = '../data/raw/yellow'\n",
    "\n",
    "# Check if the directory exists, if not, create it\n",
    "if not os.path.exists(output_dir):\n",
    "    os.makedirs(output_dir)"
   ]
  },
  {
   "cell_type": "code",
   "execution_count": 5,
   "metadata": {},
   "outputs": [],
   "source": [
    "# Read in January 2023 - previously found the schema for this had issues and didn't align\n",
    "sdf_malformed_jan = spark.read.parquet('../data/landing/yellow_2023-01.parquet')\n",
    "\n",
    "# select all columns from the existing malformed dataframe and cast it to the required schema\n",
    "sdf_malformed_jan = sdf_malformed_jan \\\n",
    "    .select([F.col(c).cast(sdf_schema[i].dataType) for i, c in enumerate(sdf_malformed_jan.columns)])"
   ]
  },
  {
   "cell_type": "code",
   "execution_count": 6,
   "metadata": {},
   "outputs": [
    {
     "name": "stderr",
     "output_type": "stream",
     "text": [
      "                                                                                \r"
     ]
    }
   ],
   "source": [
    "# Svae the data type transformed file\n",
    "sdf_malformed_jan \\\n",
    "    .coalesce(1) \\\n",
    "    .write \\\n",
    "    .mode('overwrite') \\\n",
    "    .parquet('../data/raw/yellow/yellow_2023-01')"
   ]
  },
  {
   "cell_type": "code",
   "execution_count": 7,
   "metadata": {},
   "outputs": [],
   "source": [
    "# Similar to January, the October schema was also one that was found to be not in the correct format\n",
    "sdf_malformed_oct = spark.read.parquet('../data/landing/yellow_2023-10.parquet')\n",
    "\n",
    "# select all columns from the existing malformed dataframe and cast it to the required schema\n",
    "sdf_malformed_oct = sdf_malformed_oct \\\n",
    "    .select([F.col(c).cast(sdf_schema[i].dataType) for i, c in enumerate(sdf_malformed_oct.columns)])"
   ]
  },
  {
   "cell_type": "code",
   "execution_count": 8,
   "metadata": {},
   "outputs": [
    {
     "name": "stderr",
     "output_type": "stream",
     "text": [
      "                                                                                \r"
     ]
    }
   ],
   "source": [
    "# Save the data type transformed file\n",
    "sdf_malformed_oct \\\n",
    "    .coalesce(1) \\\n",
    "    .write \\\n",
    "    .mode('overwrite') \\\n",
    "    .parquet('../data/raw/yellow/yellow_2023-10')"
   ]
  },
  {
   "cell_type": "markdown",
   "metadata": {},
   "source": [
    "Read in all the other files which do not necessarily need to be transformed based on the schema."
   ]
  },
  {
   "cell_type": "code",
   "execution_count": 9,
   "metadata": {},
   "outputs": [
    {
     "name": "stderr",
     "output_type": "stream",
     "text": [
      "24/08/25 16:22:11 WARN GarbageCollectionMetrics: To enable non-built-in garbage collector(s) List(G1 Concurrent GC), users should configure it(them) to spark.eventLog.gcMetrics.youngGenerationGarbageCollectors or spark.eventLog.gcMetrics.oldGenerationGarbageCollectors\n",
      "                                                                                \r"
     ]
    }
   ],
   "source": [
    "# Loop through 2023 months (February to October) and add January, November, December, and early 2024\n",
    "for year_month in ['2023-02', '2023-03', '2023-04', '2023-05', '2023-06', '2023-07', '2023-08', '2023-09', '2023-11', '2023-12',\n",
    "                   '2024-01', '2024-02', '2024-03', '2024-04']:\n",
    "    input_path = f'../data/landing/yellow_{year_month}.parquet'\n",
    "    output_path = f'../data/raw/yellow/yellow_{year_month}.parquet'\n",
    "    \n",
    "    # Read, process, and save the data\n",
    "    sdf = spark.read \\\n",
    "        .schema(sdf_schema) \\\n",
    "        .parquet(input_path) \\\n",
    "        .coalesce(1) \\\n",
    "        .write \\\n",
    "        .mode('overwrite') \\\n",
    "        .parquet(output_path)\n"
   ]
  },
  {
   "cell_type": "markdown",
   "metadata": {},
   "source": [
    "### Create Spark Dataframe for all the yellow taxi data (with the correct schema)"
   ]
  },
  {
   "cell_type": "code",
   "execution_count": 10,
   "metadata": {},
   "outputs": [
    {
     "name": "stdout",
     "output_type": "stream",
     "text": [
      "-RECORD 0------------------------------------\n",
      " vendorid              | 1                   \n",
      " tpep_pickup_datetime  | 2024-03-01 00:18:51 \n",
      " tpep_dropoff_datetime | 2024-03-01 00:23:45 \n",
      " passenger_count       | 0                   \n",
      " trip_distance         | 1.3                 \n",
      " ratecodeid            | 1                   \n",
      " store_and_fwd_flag    | N                   \n",
      " pulocationid          | 142                 \n",
      " dolocationid          | 239                 \n",
      " payment_type          | 1                   \n",
      " fare_amount           | 8.6                 \n",
      " extra                 | 3.5                 \n",
      " mta_tax               | 0.5                 \n",
      " tip_amount            | 2.7                 \n",
      " tolls_amount          | 0.0                 \n",
      " improvement_surcharge | 1.0                 \n",
      " total_amount          | 16.3                \n",
      " congestion_surcharge  | 2.5                 \n",
      " airport_fee           | 0.0                 \n",
      "only showing top 1 row\n",
      "\n"
     ]
    }
   ],
   "source": [
    "sdf = spark.read.schema(sdf_schema).parquet('../data/raw/yellow/*')\n",
    "\n",
    "sdf.show(1, vertical=True, truncate=100)"
   ]
  },
  {
   "cell_type": "code",
   "execution_count": 11,
   "metadata": {},
   "outputs": [
    {
     "data": {
      "text/html": [
       "<table border='1'>\n",
       "<tr><th>vendorid</th><th>tpep_pickup_datetime</th><th>tpep_dropoff_datetime</th><th>passenger_count</th><th>trip_distance</th><th>ratecodeid</th><th>store_and_fwd_flag</th><th>pulocationid</th><th>dolocationid</th><th>payment_type</th><th>fare_amount</th><th>extra</th><th>mta_tax</th><th>tip_amount</th><th>tolls_amount</th><th>improvement_surcharge</th><th>total_amount</th><th>congestion_surcharge</th><th>airport_fee</th></tr>\n",
       "<tr><td>1</td><td>2024-03-01 00:18:51</td><td>2024-03-01 00:23:45</td><td>0</td><td>1.3</td><td>1</td><td>N</td><td>142</td><td>239</td><td>1</td><td>8.6</td><td>3.5</td><td>0.5</td><td>2.7</td><td>0.0</td><td>1.0</td><td>16.3</td><td>2.5</td><td>0.0</td></tr>\n",
       "<tr><td>1</td><td>2024-03-01 00:26:00</td><td>2024-03-01 00:29:06</td><td>0</td><td>1.1</td><td>1</td><td>N</td><td>238</td><td>24</td><td>1</td><td>7.2</td><td>3.5</td><td>0.5</td><td>3.0</td><td>0.0</td><td>1.0</td><td>15.2</td><td>2.5</td><td>0.0</td></tr>\n",
       "<tr><td>2</td><td>2024-03-01 00:09:22</td><td>2024-03-01 00:15:24</td><td>1</td><td>0.86</td><td>1</td><td>N</td><td>263</td><td>75</td><td>2</td><td>7.9</td><td>1.0</td><td>0.5</td><td>0.0</td><td>0.0</td><td>1.0</td><td>10.4</td><td>0.0</td><td>0.0</td></tr>\n",
       "<tr><td>2</td><td>2024-03-01 00:33:45</td><td>2024-03-01 00:39:34</td><td>1</td><td>0.82</td><td>1</td><td>N</td><td>164</td><td>162</td><td>1</td><td>7.9</td><td>1.0</td><td>0.5</td><td>1.29</td><td>0.0</td><td>1.0</td><td>14.19</td><td>2.5</td><td>0.0</td></tr>\n",
       "<tr><td>1</td><td>2024-03-01 00:05:43</td><td>2024-03-01 00:26:22</td><td>0</td><td>4.9</td><td>1</td><td>N</td><td>263</td><td>7</td><td>2</td><td>25.4</td><td>3.5</td><td>0.5</td><td>0.0</td><td>0.0</td><td>1.0</td><td>30.4</td><td>2.5</td><td>0.0</td></tr>\n",
       "</table>\n"
      ],
      "text/plain": [
       "+--------+--------------------+---------------------+---------------+-------------+----------+------------------+------------+------------+------------+-----------+-----+-------+----------+------------+---------------------+------------+--------------------+-----------+\n",
       "|vendorid|tpep_pickup_datetime|tpep_dropoff_datetime|passenger_count|trip_distance|ratecodeid|store_and_fwd_flag|pulocationid|dolocationid|payment_type|fare_amount|extra|mta_tax|tip_amount|tolls_amount|improvement_surcharge|total_amount|congestion_surcharge|airport_fee|\n",
       "+--------+--------------------+---------------------+---------------+-------------+----------+------------------+------------+------------+------------+-----------+-----+-------+----------+------------+---------------------+------------+--------------------+-----------+\n",
       "|       1| 2024-03-01 00:18:51|  2024-03-01 00:23:45|              0|          1.3|         1|                 N|         142|         239|           1|        8.6|  3.5|    0.5|       2.7|         0.0|                  1.0|        16.3|                 2.5|        0.0|\n",
       "|       1| 2024-03-01 00:26:00|  2024-03-01 00:29:06|              0|          1.1|         1|                 N|         238|          24|           1|        7.2|  3.5|    0.5|       3.0|         0.0|                  1.0|        15.2|                 2.5|        0.0|\n",
       "|       2| 2024-03-01 00:09:22|  2024-03-01 00:15:24|              1|         0.86|         1|                 N|         263|          75|           2|        7.9|  1.0|    0.5|       0.0|         0.0|                  1.0|        10.4|                 0.0|        0.0|\n",
       "|       2| 2024-03-01 00:33:45|  2024-03-01 00:39:34|              1|         0.82|         1|                 N|         164|         162|           1|        7.9|  1.0|    0.5|      1.29|         0.0|                  1.0|       14.19|                 2.5|        0.0|\n",
       "|       1| 2024-03-01 00:05:43|  2024-03-01 00:26:22|              0|          4.9|         1|                 N|         263|           7|           2|       25.4|  3.5|    0.5|       0.0|         0.0|                  1.0|        30.4|                 2.5|        0.0|\n",
       "+--------+--------------------+---------------------+---------------+-------------+----------+------------------+------------+------------+------------+-----------+-----+-------+----------+------------+---------------------+------------+--------------------+-----------+"
      ]
     },
     "execution_count": 11,
     "metadata": {},
     "output_type": "execute_result"
    }
   ],
   "source": [
    "sdf.limit(5)"
   ]
  },
  {
   "cell_type": "code",
   "execution_count": 12,
   "metadata": {},
   "outputs": [
    {
     "data": {
      "text/plain": [
       "83100468"
      ]
     },
     "execution_count": 12,
     "metadata": {},
     "output_type": "execute_result"
    }
   ],
   "source": [
    "sdf.count()"
   ]
  },
  {
   "cell_type": "markdown",
   "metadata": {},
   "source": [
    "## View statistics for spark dataframe"
   ]
  },
  {
   "cell_type": "code",
   "execution_count": 13,
   "metadata": {},
   "outputs": [
    {
     "name": "stderr",
     "output_type": "stream",
     "text": [
      "24/08/25 16:22:59 WARN package: Truncated the string representation of a plan since it was too large. This behavior can be adjusted by setting 'spark.sql.debug.maxToStringFields'.\n",
      "[Stage 25:=====================================================>  (20 + 1) / 21]\r"
     ]
    },
    {
     "name": "stdout",
     "output_type": "stream",
     "text": [
      "+-------+------------------+------------------+-----------------+------------------+------------------+------------------+-----------------+------------------+------------------+-----------------+-------------------+-----------------+-----------------+---------------------+-----------------+--------------------+-------------------+\n",
      "|summary|          vendorid|   passenger_count|    trip_distance|        ratecodeid|store_and_fwd_flag|      pulocationid|     dolocationid|      payment_type|       fare_amount|            extra|            mta_tax|       tip_amount|     tolls_amount|improvement_surcharge|     total_amount|congestion_surcharge|        airport_fee|\n",
      "+-------+------------------+------------------+-----------------+------------------+------------------+------------------+-----------------+------------------+------------------+-----------------+-------------------+-----------------+-----------------+---------------------+-----------------+--------------------+-------------------+\n",
      "|  count|          83100468|          79547890|         83100468|          79547890|          79547890|          83100468|         83100468|          83100468|          83100468|         83100468|           83100468|         83100468|         83100468|             83100468|         83100468|            79547890|           79547890|\n",
      "|   mean| 1.741778578190438|1.3657739256188945|4.149906777901515|1.7288944433347007|              null|165.09669639886985|163.9303134008824|1.1733319480222422|19.381067256318282|1.535768785682413|  0.485165542389003|3.482041033151901|0.582007189537166|   0.9786874593774282|28.26054548542412|  2.2626377362114822| 0.1407084040821196|\n",
      "| stddev|0.4425363308859808|0.8854336836521144|256.8494656661064| 7.973026591103397|              null| 64.01544860939033|69.79836491750673|0.5679752907889154| 72.89583636183252|2.406666981528898|0.11104237894452088|4.126691545864365|2.202733660571359|   0.2030336542030218|74.33478983139055|   0.803090583286609|0.47356543603078494|\n",
      "|    min|                 1|                 0|              0.0|                 1|                 N|                 1|                1|                 0|           -1087.3|           -39.17|               -0.5|           -411.0|            -91.3|                 -1.0|         -1094.05|                -2.5|              -1.75|\n",
      "|    max|                 6|                 9|        345729.44|                99|                 Y|               265|              265|                 5|         386983.63|          10002.5|              53.16|           4174.0|          1702.88|                  1.0|        386987.63|                2.75|               1.75|\n",
      "+-------+------------------+------------------+-----------------+------------------+------------------+------------------+-----------------+------------------+------------------+-----------------+-------------------+-----------------+-----------------+---------------------+-----------------+--------------------+-------------------+\n",
      "\n"
     ]
    },
    {
     "name": "stderr",
     "output_type": "stream",
     "text": [
      "                                                                                \r"
     ]
    }
   ],
   "source": [
    "# Show summary statistics for all numeric columns\n",
    "sdf.describe().show()"
   ]
  },
  {
   "cell_type": "code",
   "execution_count": 14,
   "metadata": {},
   "outputs": [
    {
     "name": "stdout",
     "output_type": "stream",
     "text": [
      "+--------+--------------------+---------------------+---------------+-------------+----------+------------------+------------+------------+------------+-----------+-----+-------+----------+------------+---------------------+------------+--------------------+-----------+---------------------+\n",
      "|vendorid|tpep_pickup_datetime|tpep_dropoff_datetime|passenger_count|trip_distance|ratecodeid|store_and_fwd_flag|pulocationid|dolocationid|payment_type|fare_amount|extra|mta_tax|tip_amount|tolls_amount|improvement_surcharge|total_amount|congestion_surcharge|airport_fee|trip_duration_minutes|\n",
      "+--------+--------------------+---------------------+---------------+-------------+----------+------------------+------------+------------+------------+-----------+-----+-------+----------+------------+---------------------+------------+--------------------+-----------+---------------------+\n",
      "|       1| 2024-03-01 00:18:51|  2024-03-01 00:23:45|              0|          1.3|         1|                 N|         142|         239|           1|        8.6|  3.5|    0.5|       2.7|         0.0|                  1.0|        16.3|                 2.5|        0.0|                  4.9|\n",
      "|       1| 2024-03-01 00:26:00|  2024-03-01 00:29:06|              0|          1.1|         1|                 N|         238|          24|           1|        7.2|  3.5|    0.5|       3.0|         0.0|                  1.0|        15.2|                 2.5|        0.0|                  3.1|\n",
      "|       2| 2024-03-01 00:09:22|  2024-03-01 00:15:24|              1|         0.86|         1|                 N|         263|          75|           2|        7.9|  1.0|    0.5|       0.0|         0.0|                  1.0|        10.4|                 0.0|        0.0|    6.033333333333333|\n",
      "|       2| 2024-03-01 00:33:45|  2024-03-01 00:39:34|              1|         0.82|         1|                 N|         164|         162|           1|        7.9|  1.0|    0.5|      1.29|         0.0|                  1.0|       14.19|                 2.5|        0.0|    5.816666666666666|\n",
      "|       1| 2024-03-01 00:05:43|  2024-03-01 00:26:22|              0|          4.9|         1|                 N|         263|           7|           2|       25.4|  3.5|    0.5|       0.0|         0.0|                  1.0|        30.4|                 2.5|        0.0|                20.65|\n",
      "|       2| 2024-03-01 00:50:42|  2024-03-01 01:10:40|              1|         5.04|         1|                 N|         238|         159|           2|       25.4|  1.0|    0.5|       0.0|         0.0|                  1.0|        27.9|                 0.0|        0.0|   19.966666666666665|\n",
      "|       2| 2024-03-01 00:08:23|  2024-03-01 00:17:53|              1|         2.15|         1|                 N|         161|         141|           1|       12.1|  1.0|    0.5|      5.13|         0.0|                  1.0|       22.23|                 2.5|        0.0|                  9.5|\n",
      "|       2| 2024-03-01 00:24:58|  2024-03-01 00:30:31|              1|          1.1|         1|                 N|         236|         237|           1|        8.6|  1.0|    0.5|      2.04|         0.0|                  1.0|       15.64|                 2.5|        0.0|                 5.55|\n",
      "|       2| 2024-03-01 00:49:40|  2024-03-01 01:01:25|              1|         2.78|         1|                 N|         161|         114|           1|       14.9|  1.0|    0.5|       2.0|         0.0|                  1.0|        21.9|                 2.5|        0.0|                11.75|\n",
      "|       1| 2024-03-01 00:21:43|  2024-03-01 00:24:44|              1|          0.3|         1|                 N|         237|         141|           2|        5.1|  3.5|    0.5|       0.0|         0.0|                  1.0|        10.1|                 2.5|        0.0|   3.0166666666666666|\n",
      "|       1| 2024-03-01 00:39:16|  2024-03-01 00:48:12|              1|          1.2|         1|                 N|         164|         246|           1|       10.0|  3.5|    0.5|       2.0|         0.0|                  1.0|        17.0|                 2.5|        0.0|    8.933333333333334|\n",
      "|       2| 2024-03-01 00:42:29|  2024-03-01 00:57:36|              1|         3.22|         1|                 N|         246|          79|           1|       17.7|  1.0|    0.5|      4.54|         0.0|                  1.0|       27.24|                 2.5|        0.0|   15.116666666666667|\n",
      "|       2| 2024-03-01 00:59:29|  2024-03-01 01:11:20|              1|         5.34|         1|                 N|          79|         263|           1|       22.6|  1.0|    0.5|      5.52|         0.0|                  1.0|       33.12|                 2.5|        0.0|                11.85|\n",
      "|       1| 2024-03-01 00:34:52|  2024-03-01 00:48:12|              1|          2.1|         1|                 N|         186|         141|           1|       12.1|  3.5|    0.5|       2.0|         0.0|                  1.0|        19.1|                 2.5|        0.0|   13.333333333333334|\n",
      "|       1| 2024-03-01 00:55:33|  2024-03-01 01:07:05|              1|          2.4|         1|                 N|         237|         234|           1|       12.8|  3.5|    0.5|      4.45|         0.0|                  1.0|       22.25|                 2.5|        0.0|   11.533333333333333|\n",
      "|       2| 2024-03-01 00:09:52|  2024-03-01 00:23:48|              1|         1.99|         1|                 N|         148|         256|           1|       14.9|  1.0|    0.5|      3.98|         0.0|                  1.0|       23.88|                 2.5|        0.0|   13.933333333333334|\n",
      "|       2| 2024-03-01 00:36:07|  2024-03-01 00:48:01|              1|         2.97|         1|                 N|         255|         148|           1|       15.6|  1.0|    0.5|       1.0|         0.0|                  1.0|        21.6|                 2.5|        0.0|                 11.9|\n",
      "|       2| 2024-03-01 00:49:07|  2024-03-01 00:54:08|              1|         0.63|         1|                 N|         148|         114|           1|        6.5|  1.0|    0.5|       2.3|         0.0|                  1.0|        13.8|                 2.5|        0.0|    5.016666666666667|\n",
      "|       2| 2024-03-01 00:02:24|  2024-03-01 00:07:45|              1|         1.31|         1|                 N|         239|          24|           1|        8.6|  1.0|    0.5|      4.08|         0.0|                  1.0|       17.68|                 2.5|        0.0|                 5.35|\n",
      "|       2| 2024-03-01 00:05:39|  2024-03-01 00:13:11|              1|         1.36|         1|                 N|          48|         170|           1|        9.3|  1.0|    0.5|      2.86|         0.0|                  1.0|       17.16|                 2.5|        0.0|    7.533333333333333|\n",
      "+--------+--------------------+---------------------+---------------+-------------+----------+------------------+------------+------------+------------+-----------+-----+-------+----------+------------+---------------------+------------+--------------------+-----------+---------------------+\n",
      "only showing top 20 rows\n",
      "\n"
     ]
    }
   ],
   "source": [
    "# Add a new column for the trip duration in minutes\n",
    "sdf = sdf.withColumn(\n",
    "    \"trip_duration_minutes\",\n",
    "    (unix_timestamp(col(\"tpep_dropoff_datetime\")) - unix_timestamp(col(\"tpep_pickup_datetime\"))) / 60\n",
    ")\n",
    "\n",
    "# Show the DataFrame with the new column\n",
    "sdf.show()"
   ]
  },
  {
   "cell_type": "code",
   "execution_count": 15,
   "metadata": {},
   "outputs": [
    {
     "name": "stderr",
     "output_type": "stream",
     "text": [
      "[Stage 29:=====================================================>  (20 + 1) / 21]\r"
     ]
    },
    {
     "name": "stdout",
     "output_type": "stream",
     "text": [
      "+-------+------------------+------------------+-----------------+------------------+------------------+------------------+-----------------+------------------+------------------+-----------------+-------------------+-----------------+-----------------+---------------------+-----------------+--------------------+-------------------+---------------------+\n",
      "|summary|          vendorid|   passenger_count|    trip_distance|        ratecodeid|store_and_fwd_flag|      pulocationid|     dolocationid|      payment_type|       fare_amount|            extra|            mta_tax|       tip_amount|     tolls_amount|improvement_surcharge|     total_amount|congestion_surcharge|        airport_fee|trip_duration_minutes|\n",
      "+-------+------------------+------------------+-----------------+------------------+------------------+------------------+-----------------+------------------+------------------+-----------------+-------------------+-----------------+-----------------+---------------------+-----------------+--------------------+-------------------+---------------------+\n",
      "|  count|          83100468|          79547890|         83100468|          79547890|          79547890|          83100468|         83100468|          83100468|          83100468|         83100468|           83100468|         83100468|         83100468|             83100468|         83100468|            79547890|           79547890|             83100468|\n",
      "|   mean| 1.741778578190438|1.3657739256188945|4.149906777901515|1.7288944433347007|              null|165.09669639886985|163.9303134008824|1.1733319480222422|19.381067256318282|1.535768785682413|  0.485165542389003|3.482041033151901|0.582007189537166|   0.9786874593774282|28.26054548542412|  2.2626377362114822| 0.1407084040821196|     16.9745533422674|\n",
      "| stddev|0.4425363308859808|0.8854336836521144|256.8494656661064| 7.973026591103397|              null| 64.01544860939033|69.79836491750673|0.5679752907889154| 72.89583636183252|2.406666981528898|0.11104237894452088|4.126691545864365|2.202733660571359|   0.2030336542030218|74.33478983139055|   0.803090583286609|0.47356543603078494|   3099.0412451460793|\n",
      "|    min|                 1|                 0|              0.0|                 1|                 N|                 1|                1|                 0|           -1087.3|           -39.17|               -0.5|           -411.0|            -91.3|                 -1.0|         -1094.05|                -2.5|              -1.75| -2.82482984666666...|\n",
      "|    max|                 6|                 9|        345729.44|                99|                 Y|               265|              265|                 5|         386983.63|          10002.5|              53.16|           4174.0|          1702.88|                  1.0|        386987.63|                2.75|               1.75|   10029.183333333332|\n",
      "+-------+------------------+------------------+-----------------+------------------+------------------+------------------+-----------------+------------------+------------------+-----------------+-------------------+-----------------+-----------------+---------------------+-----------------+--------------------+-------------------+---------------------+\n",
      "\n"
     ]
    },
    {
     "name": "stderr",
     "output_type": "stream",
     "text": [
      "                                                                                \r"
     ]
    }
   ],
   "source": [
    "# Show summary statistics for all numeric columns\n",
    "sdf.describe().show()"
   ]
  },
  {
   "cell_type": "markdown",
   "metadata": {},
   "source": [
    "## Keeping valid taxi rides\n",
    "This is based on the data dictionary for the yellow taxi trips and other information found about taxi trips here: https://home.nyc.gov/site/tlc/passengers/taxi-fare.page"
   ]
  },
  {
   "cell_type": "code",
   "execution_count": 16,
   "metadata": {},
   "outputs": [],
   "source": [
    "sdf = sdf.filter((col(\"vendorid\").isin([1, 2])) &                      # trips can only have the vendor id be 1 or 2\n",
    "                ((col(\"ratecodeid\") >= 1) & (col(\"ratecodeid\") <= 6)) &                      # rate code id can only be between 1 and 6\n",
    "                ((col(\"payment_type\") >= 1) & (col(\"payment_type\") <= 6)) &                 # valid payment type is an integer between 1 and 6\n",
    "                ((col(\"passenger_count\") > 0) & (col(\"passenger_count\") <= 6)) &            # decided to keep a reasonable number of passengers\n",
    "                (col(\"fare_amount\") > 3) &                              # valid fare amount (greater than $3)\n",
    "                (col(\"trip_distance\") > 0.4) &                          # valid trip distance -> people could have walked otherwise\n",
    "                (col(\"mta_tax\") >= 0) &                                 # valid tax amount (non negative)\n",
    "                (col(\"tip_amount\") >= 0) &                              # valid tip amount (non negative)\n",
    "                (col(\"tolls_amount\") >= 0) &                            # valid tolls amount (non negative)\n",
    "                (col(\"total_amount\") > 3) &                             # valid total amount (greater than $3)\n",
    "                (col(\"improvement_surcharge\") >= 0) &                   # valid improvement surcharge (non negative)\n",
    "                (col(\"extra\") >= 0) &                                   # valid extra (non negative)\n",
    "                (col(\"congestion_surcharge\") >= 0) &                    # valid congestion charge (non negative)\n",
    "                (col(\"tpep_pickup_datetime\").between(\"2023-01-01 00:00:00\", \"2024-04-30 23:59:59\")) &           # in the date range i want\n",
    "                (col(\"tpep_dropoff_datetime\").between(\"2023-01-01 00:00:00\", \"2024-04-30 23:59:59\")) &          # in the date range i want\n",
    "                ((col(\"pulocationid\") >= 1) & (col(\"pulocationid\") <= 263)) &               # pickup location is a valid taxi zone\n",
    "                ((col(\"dolocationid\") >= 1) & (col(\"dolocationid\") <= 263)) &               # dropoff location is a valid taxi zone\n",
    "                (col(\"trip_duration_minutes\") > 0)\n",
    "               )"
   ]
  },
  {
   "cell_type": "code",
   "execution_count": 17,
   "metadata": {},
   "outputs": [
    {
     "name": "stderr",
     "output_type": "stream",
     "text": [
      "                                                                                \r"
     ]
    },
    {
     "data": {
      "text/plain": [
       "73146425"
      ]
     },
     "execution_count": 17,
     "metadata": {},
     "output_type": "execute_result"
    }
   ],
   "source": [
    "sdf.count()"
   ]
  },
  {
   "cell_type": "code",
   "execution_count": 18,
   "metadata": {},
   "outputs": [
    {
     "name": "stderr",
     "output_type": "stream",
     "text": [
      "[Stage 35:=====================================================>  (20 + 1) / 21]\r"
     ]
    },
    {
     "name": "stdout",
     "output_type": "stream",
     "text": [
      "+-------+------------------+------------------+------------------+------------------+------------------+------------------+-----------------+-------------------+------------------+------------------+-------------------+------------------+------------------+---------------------+------------------+--------------------+-------------------+---------------------+\n",
      "|summary|          vendorid|   passenger_count|     trip_distance|        ratecodeid|store_and_fwd_flag|      pulocationid|     dolocationid|       payment_type|       fare_amount|             extra|            mta_tax|        tip_amount|      tolls_amount|improvement_surcharge|      total_amount|congestion_surcharge|        airport_fee|trip_duration_minutes|\n",
      "+-------+------------------+------------------+------------------+------------------+------------------+------------------+-----------------+-------------------+------------------+------------------+-------------------+------------------+------------------+---------------------+------------------+--------------------+-------------------+---------------------+\n",
      "|  count|          73146425|          73146425|          73146425|          73146425|          73146425|          73146425|         73146425|           73146425|          73146425|          73146425|           73146425|          73146425|          73146425|             73146425|          73146425|            73146425|           73146425|             73146425|\n",
      "|   mean|1.7624676393959102|1.3910279278857443| 3.537890606409405|1.0510208393643299|              null|164.76767744971815|163.0364989676529| 1.1903897832327417|19.478135628633737|1.6184463046553568|0.49776108018949655|3.6325611910651503|0.5812027701959536|   0.9997632160423278|28.716084223728036|   2.350484104315419|0.14587460562836804|   17.488375925412715|\n",
      "| stddev|0.4255710760213097|0.8813276698570593|39.066781803203554|0.2665196217893008|              null| 63.02022110318557|69.22661945533854|0.44463349227959487| 76.74969022501377|1.8334844698980883|0.03523886501327584|3.9128917018958775| 2.103030019694716| 0.012998203305304322| 77.91590616702639|  0.5928188392433476| 0.4726582991563907|   40.987981985450865|\n",
      "|    min|                 1|                 1|              0.41|                 1|                 N|                 1|                1|                  1|              3.03|               0.0|                0.0|               0.0|               0.0|                  0.0|               4.2|                 0.0|                0.0| 0.016666666666666666|\n",
      "|    max|                 2|                 6|          161726.1|                 6|                 Y|               263|              263|                  4|         386983.63|             96.38|              53.16|            999.99|           1702.88|                  1.0|         386987.63|                2.75|               1.75|               9455.4|\n",
      "+-------+------------------+------------------+------------------+------------------+------------------+------------------+-----------------+-------------------+------------------+------------------+-------------------+------------------+------------------+---------------------+------------------+--------------------+-------------------+---------------------+\n",
      "\n"
     ]
    },
    {
     "name": "stderr",
     "output_type": "stream",
     "text": [
      "                                                                                \r"
     ]
    }
   ],
   "source": [
    "# Show summary statistics for all numeric columns\n",
    "sdf.describe().show()"
   ]
  },
  {
   "cell_type": "markdown",
   "metadata": {},
   "source": [
    "## Removing outliers within the data\n",
    "This is done using the $\\sqrt(log(N)) - 0.5$ method explained in Lecture 2 - Data Cleaning of MAST30034 Applied Data Science"
   ]
  },
  {
   "cell_type": "code",
   "execution_count": 19,
   "metadata": {},
   "outputs": [
    {
     "name": "stderr",
     "output_type": "stream",
     "text": [
      "                                                                                \r"
     ]
    }
   ],
   "source": [
    "# Calculate IQR for tip_amount and fare_amount, trip_distance, and trip_duration_minutes\n",
    "def calculate_bounds(df, column):\n",
    "    count = df.count()\n",
    "    quantiles = df.approxQuantile(column, [0.25, 0.75], 0.05)\n",
    "    q1 = quantiles[0]\n",
    "    q3 = quantiles[1]\n",
    "    iqr = q3 - q1\n",
    "    factor = (math.sqrt(math.log(count)) - 0.5)\n",
    "    lower_bound = q1 - factor * iqr\n",
    "    upper_bound = q3 + factor * iqr\n",
    "    return lower_bound, upper_bound\n",
    "\n",
    "# Calculate the bounds for the outliers\n",
    "tip_amount_bounds = calculate_bounds(sdf, \"tip_amount\")\n",
    "fare_amount_bounds = calculate_bounds(sdf, \"fare_amount\")\n",
    "trip_distance_bounds = calculate_bounds(sdf, \"trip_distance\")\n",
    "trip_duration_bounds = calculate_bounds(sdf, \"trip_duration_minutes\")\n",
    "\n",
    "# Filter out outliers in tip_amount, fare_amount, and trip_distance\n",
    "sdf = sdf.filter(\n",
    "    (col(\"tip_amount\") >= tip_amount_bounds[0]) & (col(\"tip_amount\") <= tip_amount_bounds[1])\n",
    ")\n",
    "sdf = sdf.filter(\n",
    "    (col(\"fare_amount\") >= fare_amount_bounds[0]) & (col(\"fare_amount\") <= fare_amount_bounds[1])\n",
    ")\n",
    "sdf = sdf.filter(\n",
    "    (col(\"trip_distance\") >= trip_distance_bounds[0]) & (col(\"trip_distance\") <= trip_distance_bounds[1])\n",
    ")\n",
    "sdf = sdf.filter(\n",
    "    (col(\"trip_duration_minutes\") >= trip_duration_bounds[0]) & (col(\"trip_duration_minutes\") <= trip_duration_bounds[1])\n",
    ")"
   ]
  },
  {
   "cell_type": "code",
   "execution_count": 20,
   "metadata": {},
   "outputs": [
    {
     "name": "stderr",
     "output_type": "stream",
     "text": [
      "[Stage 58:=====================================================>  (20 + 1) / 21]\r"
     ]
    },
    {
     "name": "stdout",
     "output_type": "stream",
     "text": [
      "+-------+------------------+------------------+------------------+-------------------+------------------+------------------+------------------+------------------+------------------+------------------+--------------------+------------------+------------------+---------------------+------------------+--------------------+-------------------+---------------------+\n",
      "|summary|          vendorid|   passenger_count|     trip_distance|         ratecodeid|store_and_fwd_flag|      pulocationid|      dolocationid|      payment_type|       fare_amount|             extra|             mta_tax|        tip_amount|      tolls_amount|improvement_surcharge|      total_amount|congestion_surcharge|        airport_fee|trip_duration_minutes|\n",
      "+-------+------------------+------------------+------------------+-------------------+------------------+------------------+------------------+------------------+------------------+------------------+--------------------+------------------+------------------+---------------------+------------------+--------------------+-------------------+---------------------+\n",
      "|  count|          67359462|          67359462|          67359462|           67359462|          67359462|          67359462|          67359462|          67359462|          67359462|          67359462|            67359462|          67359462|          67359462|             67359462|          67359462|            67359462|           67359462|             67359462|\n",
      "|   mean| 1.759185101567468| 1.380278898308303| 2.387791476125074| 1.0023149234772688|              null|166.79115740265266|165.02066008187535|1.1876913892216063|15.502638216884632|1.5523169310645646|  0.4995751645106668| 3.037589744557084|0.2205498272832151|   0.9997686754089458|23.688002424792664|  2.4023462100988873|0.06475559810736017|   13.929620019827382|\n",
      "| stddev|0.4275781634269923|0.8765011287253496|2.0740005465020963|0.09251481574297257|              null| 64.22365842704664| 68.71945907889133|0.4413183218457762| 9.028089173355278| 1.714527560437432|0.015713853729679147|2.5422774894572995| 1.231116681927529| 0.012817299487479375|12.038405136832587| 0.48435272417296826|0.32324285844627487|    8.625826958487595|\n",
      "|    min|                 1|                 1|              0.41|                  1|                 N|                 1|                 1|                 1|              3.03|               0.0|                 0.0|               0.0|               0.0|                  0.0|               4.2|                 0.0|                0.0| 0.016666666666666666|\n",
      "|    max|                 2|                 6|             10.75|                  6|                 Y|               263|               263|                 4|             63.25|             96.38|               35.84|             16.42|           1702.88|                  1.0|           1737.18|                2.75|               1.75|    65.28333333333333|\n",
      "+-------+------------------+------------------+------------------+-------------------+------------------+------------------+------------------+------------------+------------------+------------------+--------------------+------------------+------------------+---------------------+------------------+--------------------+-------------------+---------------------+\n",
      "\n"
     ]
    },
    {
     "name": "stderr",
     "output_type": "stream",
     "text": [
      "                                                                                \r"
     ]
    }
   ],
   "source": [
    "# Show summary statistics for all numeric columns\n",
    "sdf.describe().show()"
   ]
  },
  {
   "cell_type": "markdown",
   "metadata": {},
   "source": [
    "## Removed any trips to and from the airport \n",
    "It is assumed that they will not be significant in knowing trips to and from locations related to events"
   ]
  },
  {
   "cell_type": "code",
   "execution_count": 21,
   "metadata": {},
   "outputs": [],
   "source": [
    "# List of airport zones in NYC TLC data (e.g., JFK, LaGuardia, Newark)\n",
    "airport_zones = [1, 132, 138] \n",
    "\n",
    "# Filter out trips from airports\n",
    "sdf = sdf.filter(~(col('pulocationid').isin(airport_zones)))\n"
   ]
  },
  {
   "cell_type": "code",
   "execution_count": 22,
   "metadata": {},
   "outputs": [
    {
     "name": "stderr",
     "output_type": "stream",
     "text": [
      "                                                                                \r"
     ]
    },
    {
     "data": {
      "text/plain": [
       "64840171"
      ]
     },
     "execution_count": 22,
     "metadata": {},
     "output_type": "execute_result"
    }
   ],
   "source": [
    "sdf.count()"
   ]
  },
  {
   "cell_type": "code",
   "execution_count": 23,
   "metadata": {},
   "outputs": [
    {
     "name": "stderr",
     "output_type": "stream",
     "text": [
      "[Stage 64:=====================================================>  (20 + 1) / 21]\r"
     ]
    },
    {
     "name": "stdout",
     "output_type": "stream",
     "text": [
      "+-------+------------------+------------------+------------------+-------------------+------------------+-----------------+-----------------+------------------+------------------+------------------+--------------------+------------------+-------------------+---------------------+------------------+--------------------+--------------------+---------------------+\n",
      "|summary|          vendorid|   passenger_count|     trip_distance|         ratecodeid|store_and_fwd_flag|     pulocationid|     dolocationid|      payment_type|       fare_amount|             extra|             mta_tax|        tip_amount|       tolls_amount|improvement_surcharge|      total_amount|congestion_surcharge|         airport_fee|trip_duration_minutes|\n",
      "+-------+------------------+------------------+------------------+-------------------+------------------+-----------------+-----------------+------------------+------------------+------------------+--------------------+------------------+-------------------+---------------------+------------------+--------------------+--------------------+---------------------+\n",
      "|  count|          64840171|          64840171|          64840171|           64840171|          64840171|         64840171|         64840171|          64840171|          64840171|          64840171|            64840171|          64840171|           64840171|             64840171|          64840171|            64840171|            64840171|             64840171|\n",
      "|   mean|1.7575873758877039| 1.380893350821052|2.1715304444521384|   1.00195752105589|              null|167.9682472768309| 165.609028514129|1.1846925727570954|14.726492239511442|1.4180430748709798| 0.49961058029905586| 2.898934573600511|0.09862178309181736|   0.9997659506480846| 22.50152466221915|  2.4480841552684987|0.004623117819969969|   13.512342714724497|\n",
      "| stddev|0.4285425843666193|0.8782477702275351|  1.73580600567051|0.08650687993464698|              null|65.17364226914066|68.47154241457599|0.4379900859924296|  8.02557348218794|1.5034875146072448|0.015139168497423364|2.2812700921052254| 0.8508361089767226|  0.01288914910245817|10.037828168147644| 0.35650197487967467| 0.08844291365589929|    8.227297171542187|\n",
      "|    min|                 1|                 1|              0.41|                  1|                 N|                2|                1|                 1|              3.03|               0.0|                 0.0|               0.0|                0.0|                  0.0|               4.2|                 0.0|                 0.0| 0.016666666666666666|\n",
      "|    max|                 2|                 6|             10.75|                  6|                 Y|              263|              263|                 4|             63.24|             96.38|               35.84|             16.42|            1702.88|                  1.0|           1737.18|                2.75|                1.75|    65.28333333333333|\n",
      "+-------+------------------+------------------+------------------+-------------------+------------------+-----------------+-----------------+------------------+------------------+------------------+--------------------+------------------+-------------------+---------------------+------------------+--------------------+--------------------+---------------------+\n",
      "\n"
     ]
    },
    {
     "name": "stderr",
     "output_type": "stream",
     "text": [
      "                                                                                \r"
     ]
    }
   ],
   "source": [
    "# Show summary statistics for all numeric columns\n",
    "sdf.describe().show()"
   ]
  },
  {
   "cell_type": "code",
   "execution_count": 24,
   "metadata": {},
   "outputs": [
    {
     "name": "stderr",
     "output_type": "stream",
     "text": [
      "                                                                                \r"
     ]
    },
    {
     "data": {
      "text/plain": [
       "64344743"
      ]
     },
     "execution_count": 24,
     "metadata": {},
     "output_type": "execute_result"
    }
   ],
   "source": [
    "# List of airport zones in NYC TLC data (e.g., JFK, LaGuardia, Newark)\n",
    "airport_zones = [1, 132, 138]\n",
    "\n",
    "# Filter out trips to airports\n",
    "sdf = sdf.filter(~(col('dolocationid').isin(airport_zones)))\n",
    "\n",
    "sdf.count()"
   ]
  },
  {
   "cell_type": "markdown",
   "metadata": {},
   "source": [
    "## Only keep columns that will be needed in visualization and modeling"
   ]
  },
  {
   "cell_type": "code",
   "execution_count": 25,
   "metadata": {},
   "outputs": [
    {
     "data": {
      "text/html": [
       "<table border='1'>\n",
       "<tr><th>tpep_pickup_datetime</th><th>tpep_dropoff_datetime</th><th>pulocationid</th><th>dolocationid</th></tr>\n",
       "<tr><td>2024-03-01 00:09:22</td><td>2024-03-01 00:15:24</td><td>263</td><td>75</td></tr>\n",
       "<tr><td>2024-03-01 00:33:45</td><td>2024-03-01 00:39:34</td><td>164</td><td>162</td></tr>\n",
       "<tr><td>2024-03-01 00:50:42</td><td>2024-03-01 01:10:40</td><td>238</td><td>159</td></tr>\n",
       "<tr><td>2024-03-01 00:08:23</td><td>2024-03-01 00:17:53</td><td>161</td><td>141</td></tr>\n",
       "<tr><td>2024-03-01 00:24:58</td><td>2024-03-01 00:30:31</td><td>236</td><td>237</td></tr>\n",
       "</table>\n"
      ],
      "text/plain": [
       "+--------------------+---------------------+------------+------------+\n",
       "|tpep_pickup_datetime|tpep_dropoff_datetime|pulocationid|dolocationid|\n",
       "+--------------------+---------------------+------------+------------+\n",
       "| 2024-03-01 00:09:22|  2024-03-01 00:15:24|         263|          75|\n",
       "| 2024-03-01 00:33:45|  2024-03-01 00:39:34|         164|         162|\n",
       "| 2024-03-01 00:50:42|  2024-03-01 01:10:40|         238|         159|\n",
       "| 2024-03-01 00:08:23|  2024-03-01 00:17:53|         161|         141|\n",
       "| 2024-03-01 00:24:58|  2024-03-01 00:30:31|         236|         237|\n",
       "+--------------------+---------------------+------------+------------+"
      ]
     },
     "execution_count": 25,
     "metadata": {},
     "output_type": "execute_result"
    }
   ],
   "source": [
    "# Selecting the columns to keep: pickup and dropoff times and locations will be key\n",
    "selected_columns = ['tpep_pickup_datetime', 'tpep_dropoff_datetime',  \n",
    "                    'pulocationid', 'dolocationid']\n",
    "\n",
    "sdf = sdf.select(*selected_columns)\n",
    "\n",
    "# Show the first few rows of the filtered DataFrame to verify\n",
    "sdf.limit(5)"
   ]
  },
  {
   "cell_type": "code",
   "execution_count": 26,
   "metadata": {},
   "outputs": [
    {
     "name": "stderr",
     "output_type": "stream",
     "text": [
      "                                                                                \r"
     ]
    }
   ],
   "source": [
    "sdf.write.mode(\"overwrite\").parquet('../data/raw/yellow_taxi.parquet')"
   ]
  },
  {
   "cell_type": "markdown",
   "metadata": {},
   "source": [
    "## Calculate number of trips per month"
   ]
  },
  {
   "cell_type": "code",
   "execution_count": 27,
   "metadata": {},
   "outputs": [
    {
     "name": "stderr",
     "output_type": "stream",
     "text": [
      "[Stage 73:=============================================>          (17 + 4) / 21]\r"
     ]
    },
    {
     "name": "stdout",
     "output_type": "stream",
     "text": [
      "+----------+----------+\n",
      "|year_month|trip_count|\n",
      "+----------+----------+\n",
      "|    2024-4|   2509080|\n",
      "|    2024-3|   2560013|\n",
      "|    2024-2|   2329604|\n",
      "|   2023-11|   5197235|\n",
      "|    2023-9|   4312405|\n",
      "|   2023-10|   2714313|\n",
      "|    2023-4|   5176194|\n",
      "|    2023-5|   5495568|\n",
      "|    2023-8|   4347962|\n",
      "|    2023-6|   5154936|\n",
      "|    2023-7|   4508008|\n",
      "|    2023-2|   4677869|\n",
      "|    2023-3|   5391582|\n",
      "|   2023-12|   5203848|\n",
      "|    2024-1|   2315653|\n",
      "|    2023-1|   2450473|\n",
      "+----------+----------+\n",
      "\n"
     ]
    },
    {
     "name": "stderr",
     "output_type": "stream",
     "text": [
      "                                                                                \r"
     ]
    }
   ],
   "source": [
    "# Extract year and month as separate columns\n",
    "sdf = sdf.withColumn('year', F.year('tpep_pickup_datetime'))\n",
    "sdf = sdf.withColumn('month', F.month('tpep_pickup_datetime'))\n",
    "\n",
    "# Create a combined 'year_month' column\n",
    "sdf = sdf.withColumn('year_month', F.concat_ws('-', sdf['year'], sdf['month']))\n",
    "\n",
    "# Perform the aggregation\n",
    "monthly_aggregates = sdf.groupBy('year_month').agg(\n",
    "    F.count('*').alias('trip_count')  # Counting the number of trips\n",
    ")\n",
    "\n",
    "# Show the result\n",
    "monthly_aggregates.show()"
   ]
  },
  {
   "cell_type": "code",
   "execution_count": 28,
   "metadata": {},
   "outputs": [
    {
     "name": "stderr",
     "output_type": "stream",
     "text": [
      "                                                                                \r"
     ]
    },
    {
     "data": {
      "image/png": "[encoded data removed]",
      "text/plain": [
       "<Figure size 1000x600 with 1 Axes>"
      ]
     },
     "metadata": {},
     "output_type": "display_data"
    }
   ],
   "source": [
    "# Convert the PySpark DataFrame to a Pandas DataFrame\n",
    "monthly_aggregates_pd = monthly_aggregates.toPandas()\n",
    "\n",
    "# Ensure the 'year_month' column is sorted correctly\n",
    "monthly_aggregates_pd['year_month'] = pd.to_datetime(monthly_aggregates_pd['year_month'], format='%Y-%m')\n",
    "monthly_aggregates_pd = monthly_aggregates_pd.sort_values('year_month')\n",
    "\n",
    "# Plot the monthly trip counts\n",
    "plt.figure(figsize=(10, 6))\n",
    "plt.plot(monthly_aggregates_pd['year_month'], monthly_aggregates_pd['trip_count'], marker='o')\n",
    "plt.title('Monthly Trip Count for 2023 and Early 2024', fontsize=14)\n",
    "plt.xlabel('Month', fontsize=14)\n",
    "plt.ylabel('Trip Count', fontsize=14)\n",
    "plt.xticks(rotation=45)\n",
    "plt.grid(True)\n",
    "plt.savefig(\"../plots/monthly_trips.png\")\n",
    "plt.show()\n"
   ]
  },
  {
   "cell_type": "markdown",
   "metadata": {},
   "source": [
    "### Calculate hourly pickups by location"
   ]
  },
  {
   "cell_type": "code",
   "execution_count": 29,
   "metadata": {},
   "outputs": [
    {
     "name": "stderr",
     "output_type": "stream",
     "text": [
      "[Stage 79:=============================================>          (17 + 4) / 21]\r"
     ]
    },
    {
     "name": "stdout",
     "output_type": "stream",
     "text": [
      "+-----------+-----------+------------+----------+\n",
      "|pickup_date|pickup_hour|pulocationid|trip_count|\n",
      "+-----------+-----------+------------+----------+\n",
      "| 2024-03-01|          0|         144|        69|\n",
      "| 2024-03-01|          1|          52|         1|\n",
      "| 2024-03-01|          2|          45|         1|\n",
      "| 2024-03-01|          8|         229|        83|\n",
      "| 2024-03-01|         19|         239|       200|\n",
      "| 2024-03-02|          0|         237|        65|\n",
      "| 2024-03-02|          4|          90|        27|\n",
      "| 2024-03-02|          8|         262|        64|\n",
      "| 2024-03-02|         10|         249|        76|\n",
      "| 2024-03-02|         11|         143|        78|\n",
      "| 2024-03-02|         12|         246|        89|\n",
      "| 2024-03-02|         18|          45|         3|\n",
      "| 2024-03-02|         19|         113|        87|\n",
      "| 2024-03-02|         23|         164|       129|\n",
      "| 2024-03-03|         15|         140|        65|\n",
      "| 2024-03-03|         17|         238|       105|\n",
      "| 2024-03-03|         19|         202|         1|\n",
      "| 2024-03-03|         21|         230|       169|\n",
      "| 2024-03-03|         21|         255|         2|\n",
      "| 2024-03-04|          5|         231|         1|\n",
      "+-----------+-----------+------------+----------+\n",
      "only showing top 20 rows\n",
      "\n"
     ]
    },
    {
     "name": "stderr",
     "output_type": "stream",
     "text": [
      "                                                                                \r"
     ]
    }
   ],
   "source": [
    "# Add hour and date columns for aggregation\n",
    "sdf = sdf.withColumn('pickup_hour', F.hour('tpep_pickup_datetime'))\n",
    "sdf = sdf.withColumn('pickup_date', F.to_date('tpep_pickup_datetime'))\n",
    "\n",
    "# Aggregate: Hourly trip count by pickup location\n",
    "hourly_trip_puid_count = sdf.groupBy('pickup_date', 'pickup_hour', 'pulocationid').agg(\n",
    "    F.count('*').alias('trip_count')\n",
    ")\n",
    "\n",
    "# Show the result\n",
    "hourly_trip_puid_count.show()"
   ]
  },
  {
   "cell_type": "markdown",
   "metadata": {},
   "source": [
    "### Calculate hourly dropoffs by location"
   ]
  },
  {
   "cell_type": "code",
   "execution_count": 30,
   "metadata": {},
   "outputs": [
    {
     "name": "stderr",
     "output_type": "stream",
     "text": [
      "[Stage 82:=============================================>          (17 + 4) / 21]\r"
     ]
    },
    {
     "name": "stdout",
     "output_type": "stream",
     "text": [
      "+------------+------------+------------+----------+\n",
      "|dropoff_date|dropoff_hour|dolocationid|trip_count|\n",
      "+------------+------------+------------+----------+\n",
      "|  2024-03-01|           0|         144|        55|\n",
      "|  2024-03-01|           1|         129|         3|\n",
      "|  2024-03-01|           2|          45|         7|\n",
      "|  2024-03-01|           4|         195|         1|\n",
      "|  2024-03-01|           8|         229|        64|\n",
      "|  2024-03-01|          12|         165|         1|\n",
      "|  2024-03-01|          19|         239|       201|\n",
      "|  2024-03-02|           0|         237|        83|\n",
      "|  2024-03-02|           0|          17|         8|\n",
      "|  2024-03-02|           3|         256|        15|\n",
      "|  2024-03-02|           6|         143|         5|\n",
      "|  2024-03-02|           8|         262|        41|\n",
      "|  2024-03-02|          10|         249|        67|\n",
      "|  2024-03-02|          11|         143|        69|\n",
      "|  2024-03-02|          12|         246|       118|\n",
      "|  2024-03-03|           5|         161|         2|\n",
      "|  2024-03-03|          14|         155|         1|\n",
      "|  2024-03-03|          15|         140|        70|\n",
      "|  2024-03-03|          17|         238|       146|\n",
      "|  2024-03-03|          18|         220|         1|\n",
      "+------------+------------+------------+----------+\n",
      "only showing top 20 rows\n",
      "\n"
     ]
    },
    {
     "name": "stderr",
     "output_type": "stream",
     "text": [
      "                                                                                \r"
     ]
    }
   ],
   "source": [
    "# Add hour and date columns for aggregation\n",
    "sdf = sdf.withColumn('dropoff_hour', F.hour('tpep_dropoff_datetime'))\n",
    "sdf = sdf.withColumn('dropoff_date', F.to_date('tpep_dropoff_datetime'))\n",
    "\n",
    "# Aggregate: Hourly trip count by dropoff location\n",
    "hourly_trip_doid_count = sdf.groupBy('dropoff_date', 'dropoff_hour', 'dolocationid').agg(\n",
    "    F.count('*').alias('trip_count')\n",
    ")\n",
    "\n",
    "# Show the result\n",
    "hourly_trip_doid_count.show()"
   ]
  },
  {
   "cell_type": "markdown",
   "metadata": {},
   "source": [
    "## Calculate hourly count of pickups and dropoffs by location\n",
    "Combining the previous 2 aggregates in one"
   ]
  },
  {
   "cell_type": "code",
   "execution_count": 31,
   "metadata": {},
   "outputs": [
    {
     "name": "stderr",
     "output_type": "stream",
     "text": [
      "[Stage 86:================================================>       (18 + 3) / 21]\r"
     ]
    },
    {
     "name": "stdout",
     "output_type": "stream",
     "text": [
      "+----------+----+-----------+-----------------+------------------+\n",
      "|      date|hour|location_id|pickup_trip_count|dropoff_trip_count|\n",
      "+----------+----+-----------+-----------------+------------------+\n",
      "|2023-01-01|   0|         43|               87|                26|\n",
      "|2023-01-01|   0|         45|                8|                11|\n",
      "|2023-01-01|   0|         75|               14|                59|\n",
      "|2023-01-01|   0|        106|                0|                 2|\n",
      "|2023-01-01|   0|        113|               54|                40|\n",
      "|2023-01-01|   0|        126|                0|                 1|\n",
      "|2023-01-01|   0|        148|              131|                57|\n",
      "|2023-01-01|   0|        151|               39|                45|\n",
      "|2023-01-01|   0|        168|                0|                 4|\n",
      "|2023-01-01|   0|        228|                0|                 1|\n",
      "|2023-01-01|   0|        244|                4|                 8|\n",
      "|2023-01-01|   1|         12|                1|                 0|\n",
      "|2023-01-01|   1|         48|              153|               138|\n",
      "|2023-01-01|   1|         62|                0|                 2|\n",
      "|2023-01-01|   1|         67|                0|                 1|\n",
      "|2023-01-01|   1|         68|              107|               108|\n",
      "|2023-01-01|   1|         94|                0|                 2|\n",
      "|2023-01-01|   1|        100|               14|                21|\n",
      "|2023-01-01|   1|        129|                1|                 8|\n",
      "|2023-01-01|   1|        146|                7|                 6|\n",
      "+----------+----+-----------+-----------------+------------------+\n",
      "only showing top 20 rows\n",
      "\n"
     ]
    },
    {
     "name": "stderr",
     "output_type": "stream",
     "text": [
      "                                                                                \r"
     ]
    }
   ],
   "source": [
    "# Aggregate: Hourly trip count by pickup location\n",
    "hourly_trip_puid_count = sdf.groupBy('pickup_date', 'pickup_hour', 'pulocationid').agg(\n",
    "    F.count('*').alias('pickup_trip_count')\n",
    ").withColumnRenamed('pickup_date', 'date') \\\n",
    " .withColumnRenamed('pickup_hour', 'hour') \\\n",
    " .withColumnRenamed('pulocationid', 'location_id')\n",
    "\n",
    "# Aggregate: Hourly trip count by dropoff location\n",
    "hourly_trip_doid_count = sdf.groupBy('dropoff_date', 'dropoff_hour', 'dolocationid').agg(\n",
    "    F.count('*').alias('dropoff_trip_count')\n",
    ").withColumnRenamed('dropoff_date', 'date') \\\n",
    " .withColumnRenamed('dropoff_hour', 'hour') \\\n",
    " .withColumnRenamed('dolocationid', 'location_id')\n",
    "\n",
    "# Perform an outer join on date, hour, and location ID\n",
    "combined_trip_count = hourly_trip_puid_count.join(\n",
    "    hourly_trip_doid_count,\n",
    "    on=['date', 'hour', 'location_id'],\n",
    "    how='outer'\n",
    ")\n",
    "\n",
    "# Fill any null values with 0 (in case a location has only pickups or only dropoffs)\n",
    "combined_trip_count = combined_trip_count.fillna({'pickup_trip_count': 0, 'dropoff_trip_count': 0})\n",
    "\n",
    "# Show the final combined result\n",
    "combined_trip_count.show()"
   ]
  },
  {
   "cell_type": "code",
   "execution_count": 32,
   "metadata": {},
   "outputs": [],
   "source": [
    "# Define the directory path for where all the aggregated data should be saved\n",
    "# For visualization & modeling\n",
    "output_dir = '../data/curated/taxi'\n",
    "\n",
    "# Check if the directory exists, if not, create it\n",
    "if not os.path.exists(output_dir):\n",
    "    os.makedirs(output_dir)"
   ]
  },
  {
   "cell_type": "code",
   "execution_count": 33,
   "metadata": {},
   "outputs": [
    {
     "name": "stderr",
     "output_type": "stream",
     "text": [
      "                                                                                \r"
     ]
    }
   ],
   "source": [
    "# Export the dataframe as a parquet file\n",
    "combined_trip_count.write.mode(\"overwrite\").parquet('../data/curated/taxi/hourly_pu_do_counts_location.parquet')"
   ]
  },
  {
   "cell_type": "code",
   "execution_count": 34,
   "metadata": {},
   "outputs": [
    {
     "name": "stderr",
     "output_type": "stream",
     "text": [
      "                                                                                \r"
     ]
    }
   ],
   "source": [
    "# Export the data frame as a csv for ease in visualization\n",
    "combined_trip_count_df = combined_trip_count.toPandas()\n",
    "combined_trip_count_df.to_csv(\"../data/curated/taxi/hourly_pu_do_counts_location.csv\", index=False)"
   ]
  },
  {
   "cell_type": "markdown",
   "metadata": {},
   "source": [
    "## Calculate number of pickups and dropoffs by location"
   ]
  },
  {
   "cell_type": "code",
   "execution_count": 35,
   "metadata": {},
   "outputs": [
    {
     "name": "stderr",
     "output_type": "stream",
     "text": [
      "[Stage 101:=======================================>               (15 + 6) / 21]\r"
     ]
    },
    {
     "name": "stdout",
     "output_type": "stream",
     "text": [
      "+-----------+------------------+-------------------+\n",
      "|location_id|total_pickup_count|total_dropoff_count|\n",
      "+-----------+------------------+-------------------+\n",
      "|          2|                25|                  6|\n",
      "|          3|               124|                386|\n",
      "|          4|             72576|             269210|\n",
      "|          5|                 0|                  4|\n",
      "|          6|                83|                 95|\n",
      "|          7|             24947|             152390|\n",
      "|          8|               128|                824|\n",
      "|          9|               104|                534|\n",
      "|         10|              1352|               1058|\n",
      "|         11|               161|                317|\n",
      "|         12|             31718|              42191|\n",
      "|         13|            408531|             525416|\n",
      "|         14|               627|               9972|\n",
      "|         15|                57|                632|\n",
      "|         16|                75|                777|\n",
      "|         17|              2200|              42862|\n",
      "|         18|               286|               1702|\n",
      "|         19|               175|                188|\n",
      "|         20|               195|               1319|\n",
      "|         21|                80|                506|\n",
      "+-----------+------------------+-------------------+\n",
      "only showing top 20 rows\n",
      "\n"
     ]
    },
    {
     "name": "stderr",
     "output_type": "stream",
     "text": [
      "                                                                                \r"
     ]
    }
   ],
   "source": [
    "\n",
    "# Aggregate: Total pickup count by location ID\n",
    "pickup_count_by_location = sdf.groupBy('pulocationid').agg(\n",
    "    F.count('*').alias('total_pickup_count')\n",
    ")\n",
    "\n",
    "# Aggregate: Total dropoff count by location ID\n",
    "dropoff_count_by_location = sdf.groupBy('dolocationid').agg(\n",
    "    F.count('*').alias('total_dropoff_count')\n",
    ")\n",
    "\n",
    "# Perform an outer join on location ID (using coalesce to handle different column names)\n",
    "combined_location_counts = pickup_count_by_location.join(\n",
    "    dropoff_count_by_location,\n",
    "    pickup_count_by_location['pulocationid'] == dropoff_count_by_location['dolocationid'],\n",
    "    how='outer'\n",
    ")\n",
    "\n",
    "# Select and rename columns for clarity\n",
    "combined_location_counts = combined_location_counts.select(\n",
    "    F.coalesce(F.col('pulocationid'), F.col('dolocationid')).alias('location_id'),\n",
    "    F.col('total_pickup_count'),\n",
    "    F.col('total_dropoff_count')\n",
    ")\n",
    "\n",
    "# Fill any null values with 0 (in case a location has only pickups or only dropoffs)\n",
    "combined_location_counts = combined_location_counts.fillna({'total_pickup_count': 0, 'total_dropoff_count': 0})\n",
    "\n",
    "# Show the final combined result\n",
    "combined_location_counts.show()"
   ]
  },
  {
   "cell_type": "code",
   "execution_count": 36,
   "metadata": {},
   "outputs": [
    {
     "name": "stderr",
     "output_type": "stream",
     "text": [
      "                                                                                \r"
     ]
    }
   ],
   "source": [
    "combined_location_counts_df = combined_location_counts.toPandas()\n",
    "combined_location_counts_df.to_csv(\"../data/curated/taxi/pu_do_counts_location.csv\", index=False)"
   ]
  },
  {
   "cell_type": "markdown",
   "metadata": {},
   "source": [
    "## Calculate hourly pickups and dropoffs in general"
   ]
  },
  {
   "cell_type": "code",
   "execution_count": 37,
   "metadata": {},
   "outputs": [
    {
     "name": "stderr",
     "output_type": "stream",
     "text": [
      "[Stage 111:=========================================>             (16 + 5) / 21]\r"
     ]
    },
    {
     "name": "stdout",
     "output_type": "stream",
     "text": [
      "+----------+----+------------------+-------------------+\n",
      "|      date|hour|total_pickup_count|total_dropoff_count|\n",
      "+----------+----+------------------+-------------------+\n",
      "|2023-01-01|   0|              4304|               3138|\n",
      "|2023-01-01|   1|              4608|               4737|\n",
      "|2023-01-01|   2|              4102|               4347|\n",
      "|2023-01-01|   3|              3053|               3284|\n",
      "|2023-01-01|   4|              1929|               2218|\n",
      "|2023-01-01|   5|               752|                916|\n",
      "|2023-01-01|   6|               515|                531|\n",
      "|2023-01-01|   7|               596|                602|\n",
      "|2023-01-01|   8|               683|                642|\n",
      "|2023-01-01|   9|              1154|               1067|\n",
      "|2023-01-01|  10|              1848|               1704|\n",
      "|2023-01-01|  11|              2442|               2346|\n",
      "|2023-01-01|  12|              2801|               2719|\n",
      "|2023-01-01|  13|              2977|               2903|\n",
      "|2023-01-01|  14|              3029|               2977|\n",
      "|2023-01-01|  15|              3075|               3012|\n",
      "|2023-01-01|  16|              3048|               3086|\n",
      "|2023-01-01|  17|              3018|               3009|\n",
      "|2023-01-01|  18|              2739|               2812|\n",
      "|2023-01-01|  19|              2505|               2555|\n",
      "+----------+----+------------------+-------------------+\n",
      "only showing top 20 rows\n",
      "\n"
     ]
    },
    {
     "name": "stderr",
     "output_type": "stream",
     "text": [
      "                                                                                \r"
     ]
    }
   ],
   "source": [
    "# Aggregate: Total pickup count by date and hour\n",
    "pickup_count_by_date_hour = sdf.groupBy('pickup_date', 'pickup_hour').agg(\n",
    "    F.count('*').alias('total_pickup_count')\n",
    ").withColumnRenamed('pickup_date', 'date') \\\n",
    " .withColumnRenamed('pickup_hour', 'hour')\n",
    "\n",
    "# Aggregate: Total drop-off count by date and hour \n",
    "dropoff_count_by_date_hour = sdf.groupBy('dropoff_date', 'dropoff_hour').agg(\n",
    "    F.count('*').alias('total_dropoff_count')\n",
    ").withColumnRenamed('dropoff_date', 'date') \\\n",
    " .withColumnRenamed('dropoff_hour', 'hour')\n",
    "\n",
    "# Perform an outer join on the renamed date and hour columns\n",
    "combined_date_hour_counts = pickup_count_by_date_hour.join(\n",
    "    dropoff_count_by_date_hour,\n",
    "    on=['date', 'hour'],\n",
    "    how='outer'\n",
    ")\n",
    "\n",
    "# Fill any null values with 0 (in case there are hours with only pickups or only drop-offs)\n",
    "combined_date_hour_counts = combined_date_hour_counts.fillna({'total_pickup_count': 0, 'total_dropoff_count': 0})\n",
    "\n",
    "# Show the final combined result\n",
    "combined_date_hour_counts.show()"
   ]
  },
  {
   "cell_type": "code",
   "execution_count": 38,
   "metadata": {},
   "outputs": [
    {
     "name": "stderr",
     "output_type": "stream",
     "text": [
      "                                                                                \r"
     ]
    }
   ],
   "source": [
    "combined_date_hour_counts_df = combined_date_hour_counts.toPandas()\n",
    "combined_date_hour_counts_df.to_csv(\"../data/curated/taxi/hourly_pu_do_count.csv\", index=False)"
   ]
  }
 ],
 "metadata": {
  "kernelspec": {
   "display_name": "base",
   "language": "python",
   "name": "python3"
  },
  "language_info": {
   "codemirror_mode": {
    "name": "ipython",
    "version": 3
   },
   "file_extension": ".py",
   "mimetype": "text/x-python",
   "name": "python",
   "nbconvert_exporter": "python",
   "pygments_lexer": "ipython3",
   "version": "3.9.18"
  }
 },
 "nbformat": 4,
 "nbformat_minor": 2
}
