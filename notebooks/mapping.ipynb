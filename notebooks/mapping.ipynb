{
 "cells": [
  {
   "cell_type": "markdown",
   "metadata": {},
   "source": [
    "# Create mapping from Taxi Zone to Police precincts"
   ]
  },
  {
   "cell_type": "markdown",
   "metadata": {},
   "source": [
    "The following chunk of code was taken and adapted from ChatGPT and also debugged using ChatGPT"
   ]
  },
  {
   "cell_type": "code",
   "execution_count": 1,
   "metadata": {},
   "outputs": [],
   "source": [
    "# Import required packages\n",
    "import pandas as pd \n",
    "import geopandas as gpd "
   ]
  },
  {
   "cell_type": "code",
   "execution_count": 2,
   "metadata": {},
   "outputs": [
    {
     "name": "stdout",
     "output_type": "stream",
     "text": [
      "   LocationID  Precinct\n",
      "1           2     100.0\n",
      "2           3      49.0\n",
      "3           4       9.0\n",
      "4           5     123.0\n",
      "5           6     122.0\n"
     ]
    },
    {
     "name": "stderr",
     "output_type": "stream",
     "text": [
      "/Users/salehakhalid/anaconda3/lib/python3.9/site-packages/geopandas/geodataframe.py:1819: SettingWithCopyWarning: \n",
      "A value is trying to be set on a copy of a slice from a DataFrame.\n",
      "Try using .loc[row_indexer,col_indexer] = value instead\n",
      "\n",
      "See the caveats in the documentation: https://pandas.pydata.org/pandas-docs/stable/user_guide/indexing.html#returning-a-view-versus-a-copy\n",
      "  super().__setitem__(key, value)\n"
     ]
    }
   ],
   "source": [
    "# Load the shapefiles\n",
    "taxi_zones = gpd.read_file('../data/raw/taxi_zones/taxi_zones.shp')  \n",
    "police_precincts = gpd.read_file('../data/raw/precincts/nypp.shp')  \n",
    "\n",
    "# Ensure both datasets use the same coordinate reference system (CRS)\n",
    "taxi_zones = taxi_zones.to_crs(police_precincts.crs)\n",
    "\n",
    "# Calculate the centroid of each taxi zone\n",
    "taxi_zones['centroid'] = taxi_zones.geometry.centroid\n",
    "\n",
    "# Convert centroids to a GeoDataFrame\n",
    "taxi_centroids = gpd.GeoDataFrame(taxi_zones[['LocationID']], geometry=taxi_zones['centroid'])\n",
    "\n",
    "# Perform a spatial join with precincts using the centroids\n",
    "taxi_zones_with_precincts = gpd.sjoin(taxi_centroids, police_precincts, how='left', predicate='within')\n",
    "\n",
    "# Now taxi_zones_with_precincts should have each taxi zone associated with a single precinct\n",
    "mapping = taxi_zones_with_precincts[['LocationID', 'Precinct']].drop_duplicates()\n",
    "\n",
    "# Identify taxi zones with blank precincts\n",
    "missing_precincts = mapping[mapping['Precinct'].isnull()]\n",
    "\n",
    "# Calculate centroids again if needed\n",
    "missing_precincts = taxi_zones[taxi_zones['LocationID'].isin(missing_precincts['LocationID'])]\n",
    "\n",
    "# Use a small buffer around the centroids to find the nearest precinct\n",
    "missing_precincts['geometry'] = missing_precincts.geometry.buffer(100)  # 100 meters buffer\n",
    "\n",
    "# Perform spatial join again using the buffered geometry\n",
    "nearest_precincts = gpd.sjoin(missing_precincts, police_precincts, how='left', predicate='intersects')\n",
    "\n",
    "# Update the original mapping\n",
    "for index, row in nearest_precincts.iterrows():\n",
    "    mapping.loc[mapping['LocationID'] == row['LocationID'], 'Precinct'] = row['Precinct']\n",
    "\n",
    "# Drop rows where LocationID is 1 (removed from the taxi data as well)\n",
    "mapping = mapping[mapping['LocationID'] != 1]\n",
    "\n",
    "# Save the updated mapping\n",
    "mapping.to_csv('../data/curated/taxi_zone_to_precinct_mapping.csv', index=False)\n",
    "\n",
    "# Check the result\n",
    "print(mapping.head())"
   ]
  }
 ],
 "metadata": {
  "kernelspec": {
   "display_name": "base",
   "language": "python",
   "name": "python3"
  },
  "language_info": {
   "codemirror_mode": {
    "name": "ipython",
    "version": 3
   },
   "file_extension": ".py",
   "mimetype": "text/x-python",
   "name": "python",
   "nbconvert_exporter": "python",
   "pygments_lexer": "ipython3",
   "version": "3.9.18"
  }
 },
 "nbformat": 4,
 "nbformat_minor": 2
}
